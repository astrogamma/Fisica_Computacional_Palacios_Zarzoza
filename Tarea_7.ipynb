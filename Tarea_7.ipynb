{
 "cells": [
  {
   "cell_type": "markdown",
   "metadata": {},
   "source": [
    "__Ejercicio 3:__ Implementar método de Simpson de la misma forma que el ejercicio anterior(__Ejercicio 1__: Implementar el método de integración del rectángulo. Deberán construir una _rutina_ que reciba una función y el tamaño de la diferencia finita, y devuelva el valor aproximado de la integral. Para hacer esto deberán dividir el intervalo de integración en segmentos pequeños y aplicar la formula de arriba.\n",
    "\n",
    "Ejemplos: \n",
    "`rectangulo(f,a,b,h)`, donde $h=(b-a)/n$, \n",
    "`rectangulo(f,a,b,n)` o \n",
    "`rectangulo(f,b)` donde `b=linspace(a,b,n)`.)"
   ]
  },
  {
   "cell_type": "code",
   "execution_count": 1,
   "metadata": {
    "collapsed": true
   },
   "outputs": [],
   "source": [
    "using SymPy\n",
    "using PyPlot"
   ]
  },
  {
   "cell_type": "code",
   "execution_count": 2,
   "metadata": {
    "collapsed": false
   },
   "outputs": [
    {
     "data": {
      "text/latex": [
       "$$x$$"
      ],
      "text/plain": [
       "x"
      ]
     },
     "execution_count": 2,
     "metadata": {},
     "output_type": "execute_result"
    }
   ],
   "source": [
    "x=symbols(\"x\")"
   ]
  },
  {
   "cell_type": "markdown",
   "metadata": {},
   "source": [
    "# Regla de Simpson\n",
    "## $\\int _{a}^{b}f(x)\\,dx\\approx {\\frac {b-a}{3n}}{\\bigg [}f(a)+2\\sum _{j=1}^{(n/2)-1}f(2j\\frac{b-a}{n})+4\\sum _{j=1}^{n/2}f((2j-1)\\frac{b-a}{n})+f(b){\\bigg ]}$"
   ]
  },
  {
   "cell_type": "code",
   "execution_count": 3,
   "metadata": {
    "collapsed": false
   },
   "outputs": [
    {
     "data": {
      "text/plain": [
       "simpson (generic function with 1 method)"
      ]
     },
     "execution_count": 3,
     "metadata": {},
     "output_type": "execute_result"
    }
   ],
   "source": [
    "function simpson(F,region)\n",
    "    x=Sym(\"x\");\n",
    "    G=F(x); #Nos aseguramos que la función que recibe es simbólica\n",
    "    f=lambdify(G,[x]); #Transformamos la función a una función genérica para hacer cálculos rápidos\n",
    "    n=length(region); #se define el número de subintervalos\n",
    "    a=region[1]; #límite inferior de la región\n",
    "    b=region[n]; #límite superior de la región\n",
    "    sum=0;\n",
    "    part=(b-a)/n; #se define el tamaño de cada subintervalo\n",
    "    for i in 2:n-1\n",
    "        if (i%2==0)\n",
    "            sum=sum+2*f(a+i*part); #hace la suma de los pares $2\\sum _{j=1}^{(n/2)-1}f(2j\\frac{b-a}{n})$\n",
    "        elseif(i%2!=0)\n",
    "            sum=sum+4*f(a+i*part); #hace la suma de los impares $4\\sum _{j=1}^{n/2}f((2j-1)\\frac{b-a}{n})$\n",
    "        end\n",
    "    end\n",
    "    return (sum+f(a)+f(b))*part/3\n",
    "end"
   ]
  },
  {
   "cell_type": "code",
   "execution_count": 4,
   "metadata": {
    "collapsed": false
   },
   "outputs": [],
   "source": [
    "f(y)=y^2;"
   ]
  },
  {
   "cell_type": "code",
   "execution_count": 5,
   "metadata": {
    "collapsed": false
   },
   "outputs": [
    {
     "name": "stderr",
     "output_type": "stream",
     "text": [
      "WARNING: Compat.UTF8String is deprecated, use String instead.\n",
      "  likely near In[5]:1\n",
      "WARNING: Compat.UTF8String is deprecated, use String instead.\n",
      "  likely near In[5]:1\n",
      "WARNING: Compat.UTF8String is deprecated, use String instead.\n",
      "  likely near In[5]:1\n",
      "in jprint at /home/juser/.julia/v0.6/SymPy/src/display.jl\n"
     ]
    },
    {
     "data": {
      "text/plain": [
       "8.999999964000006"
      ]
     },
     "execution_count": 5,
     "metadata": {},
     "output_type": "execute_result"
    }
   ],
   "source": [
    "simpson(f,linspace(0,3,1000))"
   ]
  },
  {
   "cell_type": "code",
   "execution_count": 6,
   "metadata": {
    "collapsed": false
   },
   "outputs": [
    {
     "data": {
      "text/plain": [
       "8.999999964000006"
      ]
     },
     "execution_count": 6,
     "metadata": {},
     "output_type": "execute_result"
    }
   ],
   "source": [
    "simpson(x^2,linspace(0,3,1000))"
   ]
  },
  {
   "cell_type": "markdown",
   "metadata": {},
   "source": [
    "__Ejercicio 4:__ Implementar método de interpolación de Lagrange en `Julia`. La función deberá recibir la lista de puntos $(x_k,y_k)$ y el _lugar donde evaluamos el polinomio_, note que es particularmente útil si los _inputs_ son las listas de las $x$'s y de las $y$'s separadamente, es decir, de la misma forma en como la función `plot` recibe los argumentos; esto servira para verificar nuestros resultados. EJ.: `Interpolador(listx,listy,x)`.\n",
    "* Interpole las funciones $\\cos(x)$, $\\cos^2(x)$ tomando un arreglo de $10$ puntos distribuidos uniformemente dentro del dominio $[0,2 \\pi]$, donde el primer punto sea $0$ y el último $2\\pi$. Grafique los puntos a interpolar y la funcion interpoladora.\n",
    "* Interpole los los siguientes puntos: `[(0,10),(2,-10),(3,-4),(4,0),(5,5),(6,20),(7,-1)]`.Grafique los puntos a interpolar y la funcion interpoladora.\n",
    "* Para los ejercicios anteriores evalue la función que interpola en una variable simbólica, para que nos permita ver la forma explicita del polinomio. Ej: `Interpolador(listx,listy,Sym(\"x\"))`. \n",
    "\n",
    "__Tip:__ Pueden hacer separadamente la rutina para $l_j(x)$, luego la de $L(x)$ utilizando la rutina que ya tenemos para $l_j(x)$. Por Ej: `funciondelabase(j,listx,x)`, donde $x$ es el lugar donde evaluamos la función interpoladora."
   ]
  },
  {
   "cell_type": "code",
   "execution_count": 7,
   "metadata": {
    "collapsed": false
   },
   "outputs": [
    {
     "data": {
      "text/plain": [
       "baseL (generic function with 1 method)"
      ]
     },
     "execution_count": 7,
     "metadata": {},
     "output_type": "execute_result"
    }
   ],
   "source": [
    "function baseL(listx,j) #j-ésima base del polinomio\n",
    "    n=length(listx); #como resultado un polinomio de grado n-1\n",
    "    prod=1;\n",
    "    x=Sym(\"x\");\n",
    "    #t=[];\n",
    "    #for j in 1:n\n",
    "        for i in 1:n\n",
    "        if(j!=i )\n",
    "                prod=prod*(x-listx[i])/(listx[j]-listx[i]);\n",
    "        end\n",
    "        end\n",
    "        return prod\n",
    "    #push!(t,prod);\n",
    "    #prod=1;\n",
    "    #end\n",
    "    #return t\n",
    "end\n",
    "        "
   ]
  },
  {
   "cell_type": "code",
   "execution_count": 8,
   "metadata": {
    "collapsed": false
   },
   "outputs": [
    {
     "data": {
      "text/plain": [
       "PL (generic function with 1 method)"
      ]
     },
     "execution_count": 8,
     "metadata": {},
     "output_type": "execute_result"
    }
   ],
   "source": [
    "function PL(listx,listy)\n",
    "    if(length(listx)==length(listy))\n",
    "        n=length(listx);\n",
    "        sum=0;\n",
    "        for k in 1:n\n",
    "            sum=sum+listy[k]*baseL(listx,k);\n",
    "        end\n",
    "        return simplify(sum)\n",
    "    end\n",
    "end"
   ]
  },
  {
   "cell_type": "code",
   "execution_count": 9,
   "metadata": {
    "collapsed": false
   },
   "outputs": [
    {
     "data": {
      "text/latex": [
       "$$- \\frac{5 x^{2}}{2} + \\frac{21 x}{2} - 6$$"
      ],
      "text/plain": [
       "     2           \n",
       "  5*x    21*x    \n",
       "- ---- + ---- - 6\n",
       "   2      2      "
      ]
     },
     "execution_count": 9,
     "metadata": {},
     "output_type": "execute_result"
    }
   ],
   "source": [
    "PL([1,2,3],[2,5,3])"
   ]
  },
  {
   "cell_type": "code",
   "execution_count": 10,
   "metadata": {
    "collapsed": false
   },
   "outputs": [
    {
     "data": {
      "text/plain": [
       "polinomio (generic function with 1 method)"
      ]
     },
     "execution_count": 10,
     "metadata": {},
     "output_type": "execute_result"
    }
   ],
   "source": [
    "function polinomio(listx,listy,x0)\n",
    "    P=simplify(PL(listx,listy));\n",
    "    p=lambdify(P,[x]);\n",
    "    return p(x),p(x0)\n",
    "end"
   ]
  },
  {
   "cell_type": "code",
   "execution_count": 11,
   "metadata": {
    "collapsed": false
   },
   "outputs": [
    {
     "data": {
      "text/plain": [
       "(-5*x^2/2 + 21*x/2 - 6, -6.0)"
      ]
     },
     "execution_count": 11,
     "metadata": {},
     "output_type": "execute_result"
    }
   ],
   "source": [
    "polinomio([1,2,3],[2,5,3],0)"
   ]
  },
  {
   "cell_type": "code",
   "execution_count": 12,
   "metadata": {
    "collapsed": false
   },
   "outputs": [],
   "source": [
    "listy1=cos.(linspace(0,pi,10));"
   ]
  },
  {
   "cell_type": "code",
   "execution_count": 13,
   "metadata": {
    "collapsed": false
   },
   "outputs": [],
   "source": [
    "coseno=PL(linspace(0,pi,10),listy1);"
   ]
  },
  {
   "cell_type": "code",
   "execution_count": 14,
   "metadata": {
    "collapsed": false
   },
   "outputs": [
    {
     "data": {
      "image/png": "[encoded data removed]",
      "text/plain": [
       "PyPlot.Figure(PyObject <matplotlib.figure.Figure object at 0x7fbf4114e290>)"
      ]
     },
     "metadata": {},
     "output_type": "display_data"
    }
   ],
   "source": [
    "x1=linspace(-2*pi,2*pi,1000)\n",
    "y1=cos.(x1)\n",
    "y2=coseno.(x1)\n",
    "plot(x1,y1)\n",
    "plot(x1,y2)\n",
    "ylim(-1.5,1.5)\n",
    "grid(\"on\")"
   ]
  },
  {
   "cell_type": "code",
   "execution_count": 15,
   "metadata": {
    "collapsed": false
   },
   "outputs": [
    {
     "data": {
      "text/latex": [
       "$$- 2.63252636208827 \\cdot 10^{-6} x^{9} + 3.72164646568196 \\cdot 10^{-5} x^{8} - 3.56235990457421 \\cdot 10^{-5} x^{7} - 0.00132241972585589 x^{6} - 8.20565539569884 \\cdot 10^{-5} x^{5} + 0.0417327208594802 x^{4} - 3.29840690964645 \\cdot 10^{-5} x^{3} - 0.499990868075997 x^{2} - 1.04713495108211 \\cdot 10^{-6} x + 1.0$$"
      ],
      "text/plain": [
       "                       9                        8                        7    \n",
       "- 2.63252636208827e-6*x  + 3.72164646568196e-5*x  - 3.56235990457421e-5*x  - 0\n",
       "\n",
       "                    6                        5                       4        \n",
       ".00132241972585589*x  - 8.20565539569884e-5*x  + 0.0417327208594802*x  - 3.298\n",
       "\n",
       "                3                      2                              \n",
       "40690964645e-5*x  - 0.499990868075997*x  - 1.04713495108211e-6*x + 1.0"
      ]
     },
     "execution_count": 15,
     "metadata": {},
     "output_type": "execute_result"
    }
   ],
   "source": [
    "coseno(x)"
   ]
  },
  {
   "cell_type": "code",
   "execution_count": 16,
   "metadata": {
    "collapsed": false
   },
   "outputs": [
    {
     "data": {
      "text/plain": [
       "([0.0, 2.0, 3.0, 4.0, 5.0, 6.0, 7.0], [10.0, -10.0, -4.0, 0.0, 5.0, 20.0, -1.0])"
      ]
     },
     "execution_count": 16,
     "metadata": {},
     "output_type": "execute_result"
    }
   ],
   "source": [
    "listx2=zeros(7);\n",
    "listy2=zeros(7);\n",
    "for i in 1:7\n",
    "    listx2[i]=[(0,10),(2,-10),(3,-4),(4,0),(5,5),(6,20),(7,-1)][i][1]\n",
    "    listy2[i]=[(0,10),(2,-10),(3,-4),(4,0),(5,5),(6,20),(7,-1)][i][2]\n",
    "end\n",
    "return listx2,listy2"
   ]
  },
  {
   "cell_type": "code",
   "execution_count": 17,
   "metadata": {
    "collapsed": false
   },
   "outputs": [],
   "source": [
    "p2=lambdify(PL(listx2,listy2),[x]);"
   ]
  },
  {
   "cell_type": "code",
   "execution_count": 18,
   "metadata": {
    "collapsed": false
   },
   "outputs": [
    {
     "data": {
      "image/png": "[encoded data removed]",
      "text/plain": [
       "PyPlot.Figure(PyObject <matplotlib.figure.Figure object at 0x7fbf3efc07d0>)"
      ]
     },
     "metadata": {},
     "output_type": "display_data"
    }
   ],
   "source": [
    "x2=linspace(-1,8,1000)\n",
    "y3=p2.(x2)\n",
    "plot(x2,y3)\n",
    "for i in 1:7\n",
    "    scatter(listx2[i],listy2[i])\n",
    "end\n",
    "ylim(-25,25)\n",
    "grid(\"on\")"
   ]
  },
  {
   "cell_type": "code",
   "execution_count": 19,
   "metadata": {
    "collapsed": false
   },
   "outputs": [
    {
     "data": {
      "text/latex": [
       "$$- 0.0686507936507937 x^{6} + 1.3452380952381 x^{5} - 9.83531746031746 x^{4} + 32.5119047619048 x^{3} - 43.3103174603175 x^{2} + 5.92857142857141 x + 10.0$$"
      ],
      "text/plain": [
       "                      6                    5                     4            \n",
       "- 0.0686507936507937*x  + 1.3452380952381*x  - 9.83531746031746*x  + 32.511904\n",
       "\n",
       "         3                     2                            \n",
       "7619048*x  - 43.3103174603175*x  + 5.92857142857141*x + 10.0"
      ]
     },
     "execution_count": 19,
     "metadata": {},
     "output_type": "execute_result"
    }
   ],
   "source": [
    "p2(x)"
   ]
  },
  {
   "cell_type": "markdown",
   "metadata": {},
   "source": [
    "__Ejercicio 5:__ Comparen como convergen los métodos al valor exacto de la integral, respeco al ancho de las celdas, háganlo para $f(x)=-\\sin(x)$, integrando en el intervalo $[0,2\\pi]$. Es decir, para los tres métodos fijen el ancho de la celda y haganla cada vez mas pequeña, grafiquen el valor de la integral contra el inverso del acho de la celda, es decir $\\int f(x) dx$ contra $1/\\Delta x$. Hagan esto para los tres métodos y ponganlo en una gráfica y comenten lo que observan.]"
   ]
  },
  {
   "cell_type": "code",
   "execution_count": 20,
   "metadata": {
    "collapsed": false
   },
   "outputs": [
    {
     "data": {
      "text/plain": [
       "rectangulo (generic function with 1 method)"
      ]
     },
     "execution_count": 20,
     "metadata": {},
     "output_type": "execute_result"
    }
   ],
   "source": [
    "function rectangulo(F,region)\n",
    "    x=Sym(\"x\");\n",
    "    G=F(x); #Nos aseguramos que la función que recibe es simbólica\n",
    "    f=lambdify(G,[x]); #Transformamos la función a una función genérica para hacer cálculos rápidos\n",
    "    n=length(region); #se define el número de subintervalos\n",
    "    a=region[1]; #límite inferior de la región\n",
    "    b=region[n]; #límite superior de la región\n",
    "    sum=0;\n",
    "    part=(b-a)/n; #se define el tamaño de cada subintervalo\n",
    "    for i in 0:n\n",
    "        sum=sum+f.(a+part*(2i-1)/2)*part; #(2i-1)/2 asegura que se toma el valor a la mitad del subintervalo\n",
    "    end\n",
    "    return sum\n",
    "end"
   ]
  },
  {
   "cell_type": "code",
   "execution_count": 21,
   "metadata": {
    "collapsed": false
   },
   "outputs": [
    {
     "data": {
      "text/plain": [
       "trapecio (generic function with 1 method)"
      ]
     },
     "execution_count": 21,
     "metadata": {},
     "output_type": "execute_result"
    }
   ],
   "source": [
    "function trapecio(F,region)\n",
    "     x=Sym(\"x\");\n",
    "    G=F(x); #Nos aseguramos que la función que recibe es simbólica\n",
    "    f=lambdify(G,[x]); #Transformamos la función a una función genérica para hacer cálculos rápidos\n",
    "    n=length(region); #se define el número de subintervalos\n",
    "    a=region[1]; #límite inferior de la región\n",
    "    b=region[n]; #límite superior de la región\n",
    "    sum=0;\n",
    "    part=(b-a)/n; #se define el tamaño de cada subintervalo\n",
    "    for i in 1:(n-1)\n",
    "        sum= sum + f(a+i*part)\n",
    "    end\n",
    "    return part*(((f(a)+f(b))/2)+sum)\n",
    "end"
   ]
  },
  {
   "cell_type": "code",
   "execution_count": 22,
   "metadata": {
    "collapsed": false
   },
   "outputs": [
    {
     "data": {
      "text/plain": [
       "(3.141592653589793, 0.0, 2.5648942582957195e-16)"
      ]
     },
     "execution_count": 22,
     "metadata": {},
     "output_type": "execute_result"
    }
   ],
   "source": [
    "rectangulo(-sin(x),linspace(0,2*pi,2)),\n",
    "trapecio(-sin(x),linspace(0,2*pi,2)),\n",
    "simpson(-sin(x),linspace(0,2*pi,2))"
   ]
  },
  {
   "cell_type": "code",
   "execution_count": 23,
   "metadata": {
    "collapsed": false
   },
   "outputs": [],
   "source": [
    "g(x)=-sin(x) #Se elige la función que se desea aproximar por todos los métodos\n",
    "n=0.00;\n",
    "list1=zeros(100)\n",
    "list2=zeros(100)\n",
    "list3=zeros(100)\n",
    "listx=zeros(100)\n",
    "for i in 1:100 #hace una lista con la convergencia de cada método\n",
    "    listx[i]=1/2+n\n",
    "    list1[i]=rectangulo(g(x),linspace(0,2*pi,2+n))\n",
    "    list2[i]=trapecio(g(x),linspace(0,2*pi,2+n))\n",
    "    list3[i]=simpson(g(x),linspace(0,2*pi,2+n))\n",
    "    n=n+2;\n",
    "end\n",
    "return "
   ]
  },
  {
   "cell_type": "code",
   "execution_count": 24,
   "metadata": {
    "collapsed": false
   },
   "outputs": [
    {
     "data": {
      "image/png": "[encoded data removed]",
      "text/plain": [
       "PyPlot.Figure(PyObject <matplotlib.figure.Figure object at 0x7fbf412f0090>)"
      ]
     },
     "metadata": {},
     "output_type": "display_data"
    }
   ],
   "source": [
    "plot(listx,list1) #este es el azul\n",
    "plot(listx,list2) #este es el naranja\n",
    "plot(listx,list3) #este es el verde\n",
    "grid(\"on\")\n"
   ]
  },
  {
   "cell_type": "markdown",
   "metadata": {},
   "source": [
    "Como $-sin(x)$ es impar y de periodo $2\\pi$ el método del trapecio toma areas simétricas que se cancelan una a una y por eso converge rápidamente al velor cero."
   ]
  },
  {
   "cell_type": "code",
   "execution_count": null,
   "metadata": {
    "collapsed": true
   },
   "outputs": [],
   "source": []
  }
 ],
 "metadata": {
  "kernelspec": {
   "display_name": "Julia 0.6.0",
   "language": "julia",
   "name": "julia-0.6"
  },
  "language_info": {
   "file_extension": ".jl",
   "mimetype": "application/julia",
   "name": "julia",
   "version": "0.6.0"
  }
 },
 "nbformat": 4,
 "nbformat_minor": 2
}
