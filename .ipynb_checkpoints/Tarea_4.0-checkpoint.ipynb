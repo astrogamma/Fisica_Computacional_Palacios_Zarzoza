{
 "cells": [
  {
   "cell_type": "markdown",
   "metadata": {},
   "source": [
    "__Utilizar lo que hemos visto hasta ahora de Julia para:__\n",
    "\n",
    "1. Graficar como convergen $4$ condiciones iniciales a las raiz real de $x^3 - x^2 - x - 1$ utilizando el método de Newton. Ésto básicamente es gráficar como se mueven los puntos $x_k$, luego grafiquen el error relativo a la raiz, es decir $(x_k-S)/S$, donde $S$ es la raíz.\n",
    " __(Tip: Si tienen un arreglo con todas las $x_k$'s que arrojó el método, digamos _list_, prueben hacer directamente $(list-S)/S$ )__.\n",
    "    * Hacer lo mismo usando el método de bisección para $p_k$."
   ]
  },
  {
   "cell_type": "code",
   "execution_count": 3,
   "metadata": {
    "collapsed": false
   },
   "outputs": [
    {
     "name": "stderr",
     "output_type": "stream",
     "text": [
      "\u001b[1m\u001b[36mINFO: \u001b[39m\u001b[22m\u001b[36mPackage SymPy is already installed\n",
      "\u001b[39m\u001b[1m\u001b[36mINFO: \u001b[39m\u001b[22m\u001b[36mMETADATA is out-of-date — you may not have the latest version of SymPy\n",
      "\u001b[39m\u001b[1m\u001b[36mINFO: \u001b[39m\u001b[22m\u001b[36mUse `Pkg.update()` to get the latest versions of your packages\n",
      "\u001b[39m\u001b[1m\u001b[36mINFO: \u001b[39m\u001b[22m\u001b[36mPackage PyPlot is already installed\n",
      "\u001b[39m\u001b[1m\u001b[36mINFO: \u001b[39m\u001b[22m\u001b[36mMETADATA is out-of-date — you may not have the latest version of PyPlot\n",
      "\u001b[39m\u001b[1m\u001b[36mINFO: \u001b[39m\u001b[22m\u001b[36mUse `Pkg.update()` to get the latest versions of your packages\n",
      "\u001b[39m"
     ]
    }
   ],
   "source": [
    "Pkg.add(\"SymPy\")\n",
    "Pkg.add(\"PyPlot\")"
   ]
  },
  {
   "cell_type": "code",
   "execution_count": 4,
   "metadata": {
    "collapsed": false
   },
   "outputs": [],
   "source": [
    "using SymPy\n",
    "using PyPlot"
   ]
  },
  {
   "cell_type": "code",
   "execution_count": 5,
   "metadata": {
    "collapsed": false
   },
   "outputs": [
    {
     "data": {
      "text/latex": [
       "$$x$$"
      ],
      "text/plain": [
       "x"
      ]
     },
     "execution_count": 5,
     "metadata": {},
     "output_type": "execute_result"
    }
   ],
   "source": [
    "x=symbols(\"x\")"
   ]
  },
  {
   "cell_type": "code",
   "execution_count": 4,
   "metadata": {
    "collapsed": false
   },
   "outputs": [
    {
     "data": {
      "text/plain": [
       "f (generic function with 1 method)"
      ]
     },
     "execution_count": 4,
     "metadata": {},
     "output_type": "execute_result"
    }
   ],
   "source": [
    "f(x)=x^3-x^2-x-1 #Aquí se define la función de la que se desea obtener las raíces"
   ]
  },
  {
   "cell_type": "code",
   "execution_count": 5,
   "metadata": {
    "collapsed": false
   },
   "outputs": [
    {
     "data": {
      "text/latex": [
       "$$\\frac{x^{3} - x^{2} - x - 1}{3 x^{2} - 2 x - 1}$$"
      ],
      "text/plain": [
       " 3    2        \n",
       "x  - x  - x - 1\n",
       "---------------\n",
       "    2          \n",
       " 3*x  - 2*x - 1"
      ]
     },
     "execution_count": 5,
     "metadata": {},
     "output_type": "execute_result"
    }
   ],
   "source": [
    "ff=f(x);\n",
    "Df=diff(f(x),x);\n",
    "FDF=ff/Df"
   ]
  },
  {
   "cell_type": "code",
   "execution_count": 6,
   "metadata": {
    "collapsed": false
   },
   "outputs": [
    {
     "data": {
      "image/png": "[encoded data removed]",
      "text/plain": [
       "PyPlot.Figure(PyObject <matplotlib.figure.Figure object at 0x7fd2d800a510>)"
      ]
     },
     "metadata": {},
     "output_type": "display_data"
    },
    {
     "name": "stderr",
     "output_type": "stream",
     "text": [
      "WARNING: Compat.UTF8String is deprecated, use String instead.\n",
      "  likely near In[6]:5\n",
      "WARNING: Compat.UTF8String is deprecated, use String instead.\n",
      "  likely near In[6]:5\n",
      "WARNING: Compat.UTF8String is deprecated, use String instead.\n",
      "  likely near In[6]:5\n",
      "in jprint at /home/juser/.julia/v0.6/SymPy/src/display.jl\n"
     ]
    },
    {
     "data": {
      "text/plain": [
       "1-element Array{Any,1}:\n",
       " PyObject <matplotlib.lines.Line2D object at 0x7fd2b80a7410>"
      ]
     },
     "execution_count": 6,
     "metadata": {},
     "output_type": "execute_result"
    }
   ],
   "source": [
    "x1=linspace(-2,3,1000)\n",
    "y1=f.(x1)\n",
    "xlabel(\"x\")\n",
    "ylabel(\"y\")\n",
    "title(\"f(x)= $ff\")\n",
    "grid(\"on\")\n",
    "plot(x1,y1)"
   ]
  },
  {
   "cell_type": "code",
   "execution_count": 7,
   "metadata": {
    "collapsed": false
   },
   "outputs": [
    {
     "name": "stdout",
     "output_type": "stream",
     "text": [
      "FDF = (x^3 - x^2 - x - 1)/(3*x^2 - 2*x - 1)\n"
     ]
    },
    {
     "data": {
      "text/latex": [
       "$$\\frac{x^{3} - x^{2} - x - 1}{3 x^{2} - 2 x - 1}$$"
      ],
      "text/plain": [
       " 3    2        \n",
       "x  - x  - x - 1\n",
       "---------------\n",
       "    2          \n",
       " 3*x  - 2*x - 1"
      ]
     },
     "execution_count": 7,
     "metadata": {},
     "output_type": "execute_result"
    }
   ],
   "source": [
    "@show FDF"
   ]
  },
  {
   "cell_type": "code",
   "execution_count": 8,
   "metadata": {
    "collapsed": false
   },
   "outputs": [],
   "source": [
    "fdf=lambdify(FDF,[x]);"
   ]
  },
  {
   "cell_type": "code",
   "execution_count": 9,
   "metadata": {
    "collapsed": false
   },
   "outputs": [
    {
     "data": {
      "text/plain": [
       "condicionInicial (generic function with 1 method)"
      ]
     },
     "execution_count": 9,
     "metadata": {},
     "output_type": "execute_result"
    }
   ],
   "source": [
    "function condicionInicial(S)\n",
    "    list=zeros(50);\n",
    "    y=S;\n",
    "    for i in 1:50\n",
    "        y= y - fdf(y);\n",
    "        list[i]=y;\n",
    "    end\n",
    "    return list\n",
    "end"
   ]
  },
  {
   "cell_type": "code",
   "execution_count": 10,
   "metadata": {
    "collapsed": false
   },
   "outputs": [],
   "source": [
    "list1= condicionInicial(0);\n",
    "list2= condicionInicial(-5);\n",
    "list3= condicionInicial(26);\n",
    "list4= condicionInicial(10);"
   ]
  },
  {
   "cell_type": "code",
   "execution_count": 11,
   "metadata": {
    "collapsed": true
   },
   "outputs": [],
   "source": [
    "error1= zeros(50);\n",
    "error2= zeros(50);\n",
    "error3= zeros(50);\n",
    "error4= zeros(50);\n",
    "for i in 1:50\n",
    "    error1[i]=(list1[i]/list1[50]) -1 ;\n",
    "    error2[i]=(list2[i]/list2[50]) -1 ;\n",
    "    error3[i]=(list3[i]/list3[50]) -1 ;\n",
    "    error4[i]=(list4[i]/list4[50]) -1 ;\n",
    "end"
   ]
  },
  {
   "cell_type": "code",
   "execution_count": 12,
   "metadata": {
    "collapsed": false
   },
   "outputs": [
    {
     "data": {
      "image/png": "[encoded data removed]",
      "text/plain": [
       "PyPlot.Figure(PyObject <matplotlib.figure.Figure object at 0x7fd2b805f710>)"
      ]
     },
     "metadata": {},
     "output_type": "display_data"
    },
    {
     "data": {
      "text/plain": [
       "PyObject <matplotlib.text.Text object at 0x7fd2b8003290>"
      ]
     },
     "execution_count": 12,
     "metadata": {},
     "output_type": "execute_result"
    }
   ],
   "source": [
    "scatter(1:50,list4)\n",
    "scatter(1:50,list3)\n",
    "scatter(1:50,list2)\n",
    "scatter(1:50,list1)\n",
    "grid(\"on\")\n",
    "y2=list1[50];\n",
    "title(\"Convergencia a la raiz $y2\")"
   ]
  },
  {
   "cell_type": "code",
   "execution_count": 13,
   "metadata": {
    "collapsed": false
   },
   "outputs": [
    {
     "data": {
      "image/png": "[encoded data removed]",
      "text/plain": [
       "PyPlot.Figure(PyObject <matplotlib.figure.Figure object at 0x7fd2b7f81fd0>)"
      ]
     },
     "metadata": {},
     "output_type": "display_data"
    },
    {
     "data": {
      "text/plain": [
       "PyObject <matplotlib.text.Text object at 0x7fd2b7f36f90>"
      ]
     },
     "execution_count": 13,
     "metadata": {},
     "output_type": "execute_result"
    }
   ],
   "source": [
    "scatter(1:50,error4)\n",
    "scatter(1:50,error3)\n",
    "scatter(1:50,error2)\n",
    "scatter(1:50,error1)\n",
    "grid(\"on\")\n",
    "title(\"Error relativo\")"
   ]
  },
  {
   "cell_type": "code",
   "execution_count": 14,
   "metadata": {
    "collapsed": false
   },
   "outputs": [
    {
     "data": {
      "image/png": "[encoded data removed]",
      "text/plain": [
       "PyPlot.Figure(PyObject <matplotlib.figure.Figure object at 0x7fd2b805fe90>)"
      ]
     },
     "metadata": {},
     "output_type": "display_data"
    },
    {
     "data": {
      "text/plain": [
       "PyObject <matplotlib.collections.PathCollection object at 0x7fd2b7ddb710>"
      ]
     },
     "execution_count": 14,
     "metadata": {},
     "output_type": "execute_result"
    }
   ],
   "source": [
    "x3=linspace(-2,3,1000)\n",
    "y3=f.(x3)\n",
    "xlabel(\"x\")\n",
    "ylabel(\"y\")\n",
    "title(\"f(x)= $ff\")\n",
    "grid(\"on\")\n",
    "plot(x3,y3);\n",
    "scatter(list1[50],f.(list1[50]))\n"
   ]
  },
  {
   "cell_type": "code",
   "execution_count": 15,
   "metadata": {
    "collapsed": true
   },
   "outputs": [],
   "source": [
    "function biseccion(a,b)\n",
    "    p = (a+b)/2\n",
    "    for i in 1:50\n",
    "        if  f(a)*f(p) > 0\n",
    "            a = p\n",
    "        end\n",
    "        \n",
    "        if f(b)*f(p) > 0\n",
    "            b = p\n",
    "        end\n",
    "        p = (a+b)/2\n",
    "    end\n",
    "    return p,f(p)\n",
    "end;"
   ]
  },
  {
   "cell_type": "code",
   "execution_count": 16,
   "metadata": {
    "collapsed": false
   },
   "outputs": [
    {
     "data": {
      "text/plain": [
       "(1.8392867552141605, -3.552713678800501e-15)"
      ]
     },
     "execution_count": 16,
     "metadata": {},
     "output_type": "execute_result"
    }
   ],
   "source": [
    "raiz=biseccion(-3,4)"
   ]
  },
  {
   "cell_type": "code",
   "execution_count": 17,
   "metadata": {
    "collapsed": false
   },
   "outputs": [
    {
     "data": {
      "text/plain": [
       "1.8392867552141605"
      ]
     },
     "execution_count": 17,
     "metadata": {},
     "output_type": "execute_result"
    }
   ],
   "source": [
    "raiz[1]"
   ]
  },
  {
   "cell_type": "code",
   "execution_count": 18,
   "metadata": {
    "collapsed": false
   },
   "outputs": [
    {
     "data": {
      "image/png": "[encoded data removed]",
      "text/plain": [
       "PyPlot.Figure(PyObject <matplotlib.figure.Figure object at 0x7fd2b7da5290>)"
      ]
     },
     "metadata": {},
     "output_type": "display_data"
    },
    {
     "data": {
      "text/plain": [
       "PyObject <matplotlib.collections.PathCollection object at 0x7fd2b7d19810>"
      ]
     },
     "execution_count": 18,
     "metadata": {},
     "output_type": "execute_result"
    }
   ],
   "source": [
    "x4=linspace(-2,3,1000)\n",
    "y4=f.(x4)\n",
    "xlabel(\"x\")\n",
    "ylabel(\"y\")\n",
    "title(\"f(x)=$ff\")\n",
    "grid(\"on\")\n",
    "plot(x4,y4);\n",
    "scatter(raiz[1],f.(raiz[1]))\n"
   ]
  },
  {
   "cell_type": "markdown",
   "metadata": {},
   "source": [
    "2. Crear una función en Julia que implemente el método de Newton para funciones arbitrarias. Deberán crearla con las siguientes consideraciones __(Noten que aqui solo nos interesa la última iteración!, como lo hicieron en los primeros ejercicios)__:\n",
    "    * Que tome como argumentos tanto a la función, su derivada y la condición inicial. Es decir, el input debe ser `metodo_newton(f,df,x0)`. El _output_ debe ser alguna raíz.\n",
    "    * Hacer la misma función pero que en lugar de tomar como argumento una condición inicial, tome un rango amplio de condiciones iniciales, por ejemplo costruido con `linspace`. Es muy probable que funcione llamando la funcion que crearon como `metodo_newton.(f,df,x)`. Si no funciona la sintaxis creen una rutina solo para vectores, que seria lo previo al siguiente punto. El _ouput_ debe ser un arreglo donde las entradas son raices, no importa que estén repetidas. __Nota:__ Las funciones se pasan a la rutina SIN argumento, es decir solo como (por ej.) `metodo(f)`.\n",
    "    * Crear la misma rutina, pero que esta vez solo reciba un rango amplio de condiciones iniciales (objetos `linspace`) y que revise el arreglo despues de $200$ iteraciones y solo tome las raices diferentes hasta cierto $\\epsilon$. Aquí pueden usar `push!` para ir guardando las raíces en un vector inicializado como (por ej.) `t=[]`. El _output_ tiene que ser precisamente `t`. \n",
    "    * (__Lean bien este paso!__) Finalmente, desarrollen una función similar a la anterior, siguiendo los mismos pasos, pero esta vez que los _inputs_ de la función del método sean solamente la función y la condición inicial.\n",
    "        * Para esto deberán usar lo que aprendimos de SymPy y como podemos convertir y/o evaluar funciones tanto en simbolos como en flotantes.\n",
    "        * La función que reciba esta rutina debe ser de `Julia`, para la derivada pueden usar `SymPy` internamente, recuerden que es facil convertir funciones de `Julia` en funciones simbolicas evaluandolas en variables simbolicas; para regresarlas a funciones de `Julia` e iterarlas, consulten la parte donde vimos la función `lambdify`. \n",
    "        \n",
    "__Nota:__ Se resolveran dudas de esta tarea el Martes 29, así que traten de avanzar para que surjan dudas."
   ]
  },
  {
   "cell_type": "markdown",
   "metadata": {},
   "source": [
    "__Primer punto__"
   ]
  },
  {
   "cell_type": "code",
   "execution_count": 19,
   "metadata": {
    "collapsed": false
   },
   "outputs": [
    {
     "data": {
      "text/plain": [
       "metodo_newton_0 (generic function with 1 method)"
      ]
     },
     "execution_count": 19,
     "metadata": {},
     "output_type": "execute_result"
    }
   ],
   "source": [
    "function metodo_newton_0(g,dg,S)\n",
    "    x=Sym(\"x\");\n",
    "    y=S;\n",
    "    if dg(S)!=0\n",
    "        for i in 1:50\n",
    "        y= y - g(y)/dg(y);\n",
    "        end\n",
    "        return y\n",
    "    end\n",
    "    return \"g'(x)=0 en esa condición inicial. Intenta otro valor.\"\n",
    "end"
   ]
  },
  {
   "cell_type": "code",
   "execution_count": 20,
   "metadata": {
    "collapsed": false
   },
   "outputs": [
    {
     "data": {
      "text/plain": [
       "\"g'(x)=0 en esa condición inicial. Intenta otro valor.\""
      ]
     },
     "execution_count": 20,
     "metadata": {},
     "output_type": "execute_result"
    }
   ],
   "source": [
    "metodo_newton_0(x^2-4,2*x,0)"
   ]
  },
  {
   "cell_type": "code",
   "execution_count": 21,
   "metadata": {
    "collapsed": false
   },
   "outputs": [
    {
     "data": {
      "text/latex": [
       "$$0.472833908995256$$"
      ],
      "text/plain": [
       "0.472833908995256"
      ]
     },
     "execution_count": 21,
     "metadata": {},
     "output_type": "execute_result"
    }
   ],
   "source": [
    "metodo_newton_0(x^3+4*x^2-1,3*x^2+8*x,0.01)"
   ]
  },
  {
   "cell_type": "markdown",
   "metadata": {},
   "source": [
    "__Segundo Punto__"
   ]
  },
  {
   "cell_type": "code",
   "execution_count": 99,
   "metadata": {
    "collapsed": false
   },
   "outputs": [
    {
     "data": {
      "text/plain": [
       "repetidos (generic function with 2 methods)"
      ]
     },
     "execution_count": 99,
     "metadata": {},
     "output_type": "execute_result"
    }
   ],
   "source": [
    "function repetidos(t,e)\n",
    "    sizet=size(t)[1];\n",
    "    for n in 1:sizet\n",
    "        if n<sizet\n",
    "            E=t[n+1]-t[n];\n",
    "            while abs(E)<e #Valor de Epsilon\n",
    "                deleteat!(t,n+1);\n",
    "                sizet=size(t)[1];\n",
    "                if n<sizet\n",
    "                    E=t[n+1]-t[n];\n",
    "                else\n",
    "                    E=e; #para romper y evitar usar un elemento del arreglo que no existe\n",
    "                end\n",
    "            end\n",
    "        end\n",
    "    end\n",
    "    return t\n",
    "end"
   ]
  },
  {
   "cell_type": "code",
   "execution_count": 94,
   "metadata": {
    "collapsed": false
   },
   "outputs": [
    {
     "data": {
      "text/plain": [
       "1-element Array{Int64,1}:\n",
       " 1"
      ]
     },
     "execution_count": 94,
     "metadata": {},
     "output_type": "execute_result"
    }
   ],
   "source": [
    "repetidos([1,1,2,2,3,3],3)"
   ]
  },
  {
   "cell_type": "code",
   "execution_count": 100,
   "metadata": {
    "collapsed": false
   },
   "outputs": [
    {
     "data": {
      "text/plain": [
       "metodo_newton_1 (generic function with 1 method)"
      ]
     },
     "execution_count": 100,
     "metadata": {},
     "output_type": "execute_result"
    }
   ],
   "source": [
    "function metodo_newton_1(g,dg,S)\n",
    "    x=Sym(\"x\");\n",
    "    y_=S;\n",
    "    t=[];\n",
    "    for (i,y) in enumerate(y_)\n",
    "        if dg.(y)!=0\n",
    "            for n in 1:50\n",
    "            y= y - g.(y)/dg.(y);\n",
    "            end\n",
    "            push!(t,y);\n",
    "        end\n",
    "    end\n",
    "    repetidos(t,0.0000001)\n",
    "    return t\n",
    "end"
   ]
  },
  {
   "cell_type": "code",
   "execution_count": 101,
   "metadata": {
    "collapsed": false
   },
   "outputs": [
    {
     "data": {
      "text/plain": [
       "2-element Array{Any,1}:\n",
       " -2.00000000000000\n",
       "  2.00000000000000"
      ]
     },
     "execution_count": 101,
     "metadata": {},
     "output_type": "execute_result"
    }
   ],
   "source": [
    "metodo_newton_1(x^2-4,2*x,linspace(-2,2,10))"
   ]
  },
  {
   "cell_type": "markdown",
   "metadata": {},
   "source": [
    "__Tercer Punto__"
   ]
  },
  {
   "cell_type": "code",
   "execution_count": 134,
   "metadata": {
    "collapsed": false
   },
   "outputs": [
    {
     "data": {
      "text/plain": [
       "metodo_newton (generic function with 1 method)"
      ]
     },
     "execution_count": 134,
     "metadata": {},
     "output_type": "execute_result"
    }
   ],
   "source": [
    "function metodo_newton(g,S)\n",
    "    x=Sym(\"x\");\n",
    "    y_=S;\n",
    "    dg=lambdify(diff(g(x),x),[x]);\n",
    "    t=[];\n",
    "    for (i,y) in enumerate(y_)\n",
    "        if dg.(y)!=0\n",
    "            for n in 1:50\n",
    "            y= y - g.(y)/dg.(y);\n",
    "            end\n",
    "            push!(t,y);\n",
    "        end\n",
    "    end\n",
    "    repetidos(t,0.0000001)\n",
    "    if size(t)[1]==0\n",
    "        return \"No se encontraron raíces. Verifica que f'(x)!=0 en alguno de los puntos de la condición inicial.\"\n",
    "    end\n",
    "    return g(x),t\n",
    "end"
   ]
  },
  {
   "cell_type": "code",
   "execution_count": 135,
   "metadata": {
    "collapsed": false
   },
   "outputs": [
    {
     "data": {
      "text/plain": [
       "(x^3 + 4*x^2 - 1, Any[0.472833908995256])"
      ]
     },
     "execution_count": 135,
     "metadata": {},
     "output_type": "execute_result"
    }
   ],
   "source": [
    "metodo_newton(x^3+4*x^2-1,0.01)"
   ]
  },
  {
   "cell_type": "code",
   "execution_count": 163,
   "metadata": {
    "collapsed": false
   },
   "outputs": [
    {
     "data": {
      "text/plain": [
       "(x^3 + 4*x^2 - 1, Any[-3.93543233197003, -0.537401577025226, 0.472833908995256])"
      ]
     },
     "execution_count": 163,
     "metadata": {},
     "output_type": "execute_result"
    }
   ],
   "source": [
    "A=metodo_newton(x^3+4*x^2-1,linspace(-5,2,5))"
   ]
  },
  {
   "cell_type": "code",
   "execution_count": 165,
   "metadata": {
    "collapsed": false
   },
   "outputs": [
    {
     "data": {
      "text/plain": [
       "3-element Array{Any,1}:\n",
       "  -3.93543233197003\n",
       " -0.537401577025226\n",
       "  0.472833908995256"
      ]
     },
     "execution_count": 165,
     "metadata": {},
     "output_type": "execute_result"
    }
   ],
   "source": [
    "A[2]"
   ]
  },
  {
   "cell_type": "code",
   "execution_count": 164,
   "metadata": {
    "collapsed": false
   },
   "outputs": [
    {
     "data": {
      "image/png": "[encoded data removed]",
      "text/plain": [
       "PyPlot.Figure(PyObject <matplotlib.figure.Figure object at 0x7f0b2cd020d0>)"
      ]
     },
     "metadata": {},
     "output_type": "display_data"
    }
   ],
   "source": [
    "hh=lambdify(A[1],[x]);\n",
    "x5=linspace(-5,2,1000);\n",
    "y5=x5.^3+4*x5.^2-1;\n",
    "plot(x5,y5)\n",
    "grid(\"on\")\n",
    "for i in 1:size(A[2])[1]\n",
    "    scatter(A[2][i],hh.(A[2][i]));\n",
    "    end"
   ]
  },
  {
   "cell_type": "code",
   "execution_count": null,
   "metadata": {
    "collapsed": true
   },
   "outputs": [],
   "source": []
  }
 ],
 "metadata": {
  "kernelspec": {
   "display_name": "Julia 0.6.0",
   "language": "julia",
   "name": "julia-0.6"
  },
  "language_info": {
   "file_extension": ".jl",
   "mimetype": "application/julia",
   "name": "julia",
   "version": "0.6.0"
  }
 },
 "nbformat": 4,
 "nbformat_minor": 2
}
