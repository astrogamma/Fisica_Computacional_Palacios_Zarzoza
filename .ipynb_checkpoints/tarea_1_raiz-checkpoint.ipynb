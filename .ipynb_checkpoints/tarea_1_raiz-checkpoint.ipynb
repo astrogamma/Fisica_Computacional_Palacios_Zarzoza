{
 "cells": [
  {
   "cell_type": "code",
   "execution_count": null,
   "metadata": {
    "collapsed": true
   },
   "outputs": [],
   "source": []
  },
  {
   "cell_type": "code",
   "execution_count": null,
   "metadata": {
    "collapsed": true
   },
   "outputs": [],
   "source": [
    "function raiz(a)\n",
    "    x=sqrt_root(a/2);\n",
    "    for i in 1:20\n",
    "        x= x-((x*tan(x)-sqrt_root(a-x^2))/(tan(x)+x*sec(x)^2+x/(sqrt_root(a-x^2))));\n",
    "    end\n",
    "    return x\n",
    "end"
   ]
  }
 ],
 "metadata": {
  "kernelspec": {
   "display_name": "Julia 0.6.0",
   "language": "julia",
   "name": "julia-0.6"
  },
  "language_info": {
   "file_extension": ".jl",
   "mimetype": "application/julia",
   "name": "julia",
   "version": "0.6.0"
  }
 },
 "nbformat": 4,
 "nbformat_minor": 2
}
