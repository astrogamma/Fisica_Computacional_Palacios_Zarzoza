{
 "cells": [
  {
   "cell_type": "markdown",
   "metadata": {
    "collapsed": true
   },
   "source": [
    "__Ejercicio 1__. Escribe una función `derivadaNumerica` que\n",
    "reciba: una función $f\\colon \\mathbb{R}\\mapsto\\mathbb{R}$,\n",
    "un punto $x_0\\in\\mathbb{R}$ y un número $h\\in\\mathbb{R}$. Esta función deberá calcular una aproximación a la\n",
    "derivada utilizando la definición indicada arriba ignorando\n",
    "la parte del límite. Es decir, algo como: `derivada_numerica(f,x,h)`."
   ]
  },
  {
   "cell_type": "code",
   "execution_count": 1,
   "metadata": {
    "collapsed": false
   },
   "outputs": [
    {
     "name": "stderr",
     "output_type": "stream",
     "text": [
      "\u001b[1m\u001b[36mINFO: \u001b[39m\u001b[22m\u001b[36mPackage PyPlot is already installed\n",
      "\u001b[39m\u001b[1m\u001b[36mINFO: \u001b[39m\u001b[22m\u001b[36mMETADATA is out-of-date — you may not have the latest version of PyPlot\n",
      "\u001b[39m\u001b[1m\u001b[36mINFO: \u001b[39m\u001b[22m\u001b[36mUse `Pkg.update()` to get the latest versions of your packages\n",
      "\u001b[39m"
     ]
    }
   ],
   "source": [
    "Pkg.add(\"PyPlot\")"
   ]
  },
  {
   "cell_type": "code",
   "execution_count": 2,
   "metadata": {
    "collapsed": true
   },
   "outputs": [],
   "source": [
    "using SymPy\n",
    "using PyPlot"
   ]
  },
  {
   "cell_type": "code",
   "execution_count": 3,
   "metadata": {
    "collapsed": false
   },
   "outputs": [
    {
     "data": {
      "text/latex": [
       "$$x$$"
      ],
      "text/plain": [
       "x"
      ]
     },
     "execution_count": 3,
     "metadata": {},
     "output_type": "execute_result"
    }
   ],
   "source": [
    "x=symbols(\"x\")"
   ]
  },
  {
   "cell_type": "code",
   "execution_count": 4,
   "metadata": {
    "collapsed": false
   },
   "outputs": [
    {
     "data": {
      "text/plain": [
       "derivadaNumerica (generic function with 1 method)"
      ]
     },
     "execution_count": 4,
     "metadata": {},
     "output_type": "execute_result"
    }
   ],
   "source": [
    "df=0.0;\n",
    "function derivadaNumerica(f,x,h)\n",
    "    df=(f(x+h)-f(x))/h;\n",
    "end"
   ]
  },
  {
   "cell_type": "code",
   "execution_count": 5,
   "metadata": {
    "collapsed": false
   },
   "outputs": [
    {
     "data": {
      "text/latex": [
       "$$2.00009999999917$$"
      ],
      "text/plain": [
       "2.00009999999917"
      ]
     },
     "execution_count": 5,
     "metadata": {},
     "output_type": "execute_result"
    }
   ],
   "source": [
    "derivadaNumerica(x^2,1,0.0001)"
   ]
  },
  {
   "cell_type": "markdown",
   "metadata": {},
   "source": [
    "__Ejercicio 2__. Utiliza tu función `derivadaNumerica` para\n",
    "calcular la derivada de la función $\\cos$ en un punto\n",
    "$x_0\\in[0,1)$. Compara tu resultado con el que indica el\n",
    "cálculo exacto. Utiliza valores de $h$ cada vez más pequeños, grafica el comportamiento de la derivada y muestra como converge al valor exacto conforme tomamos $h$'s cada vez más pequeño. Para ello pueden graficar el resultado de la derivada numérica contra $1/h$.\n",
    "Observa el resultado de la aproximación y comenta. ¿El error es del orden de $h$?, para ver esto grafica el error relativo a $f'(x_0)$:\n",
    "$$\\epsilon=\\frac{\\Delta f(x_0,h)/h-f'(x_0)}{f'(x_0)},$$\n",
    "respecto a $h$."
   ]
  },
  {
   "cell_type": "code",
   "execution_count": 6,
   "metadata": {
    "collapsed": false
   },
   "outputs": [],
   "source": [
    "f(x)=cos(x)\n",
    "x0=0.5\n",
    "list1=zeros(15,2)\n",
    "for i in 1:15\n",
    "    list1[i,1]=(1.5^i)\n",
    "    list1[i,2]=derivadaNumerica(f(x),x0,1/(1.5^i))\n",
    "end"
   ]
  },
  {
   "cell_type": "code",
   "execution_count": 7,
   "metadata": {
    "collapsed": false
   },
   "outputs": [],
   "source": [
    "list2=zeros(15)\n",
    "for i in 1:15\n",
    "    list2[i]=-sin(x0);\n",
    "end"
   ]
  },
  {
   "cell_type": "code",
   "execution_count": 8,
   "metadata": {
    "collapsed": false
   },
   "outputs": [
    {
     "data": {
      "image/png": "[encoded data removed]",
      "text/plain": [
       "PyPlot.Figure(PyObject <matplotlib.figure.Figure object at 0x7f869dd89810>)"
      ]
     },
     "metadata": {},
     "output_type": "display_data"
    },
    {
     "data": {
      "text/plain": [
       "1-element Array{Any,1}:\n",
       " PyObject <matplotlib.lines.Line2D object at 0x7f86c4a6ee90>"
      ]
     },
     "execution_count": 8,
     "metadata": {},
     "output_type": "execute_result"
    }
   ],
   "source": [
    "plot(list1[1:15,1],list1[1:15,2])\n",
    "plot(list1[1:15,1],list2)"
   ]
  },
  {
   "cell_type": "markdown",
   "metadata": {},
   "source": [
    "__Ejercicio 3__. Teniendo en mente la serie de Taylor para $f(x+h)$ ¿existe\n",
    "alguna forma de mejorar el cálculo de la derivada numérica? Comenta.\n",
    "\n",
    "__Tip:__ ¿Que pasa con los términos pares de la serie cuando la calculamos para $f(x-h)$?, ¿Como podemos despejar la derivada exacta de $f$ combinando ambas series? \n",
    "\n",
    "__Nota:__ Entregar en $\\LaTeX$ en el notebook de la tarea."
   ]
  },
  {
   "cell_type": "markdown",
   "metadata": {},
   "source": [
    "La serie de Taylor para $f(x+h)$ es:\n",
    "\n",
    "$f(x+h)= f(x)+f'(x)\\frac{h}{1!}+f''(x)\\frac{h^2}{2!}+f^{(3)}(x)\\frac{h^3}{3!}+...$\n",
    "\n",
    "Mientras que la serie de Taylor para $f(x-h)$ es:\n",
    "\n",
    "$f(x+h)= f(x)+f'(x)\\frac{(-h)}{1!}+f''(x)\\frac{(-h)^2}{2!}+f^{(3)}(x)\\frac{(-h)^3}{3!}+...$\n",
    "\n",
    "o equivalentemente\n",
    "\n",
    "$f(x-h)= f(x)-f'(x)\\frac{h}{1!}+f''(x)\\frac{h^2}{2!}-f^{(3)}(x)\\frac{h^3}{3!}+...$\n",
    "\n",
    "si restamos ambas \n",
    "\n",
    "$f(x+h)-f(x-h)= 2hf'(x)+f^{(3)}\\frac{2h^3}{3!}+f^{(5)}\\frac{2h^5}{5!}+...$\n",
    "\n",
    "Así,como los términos restantes son ordenes grandes $(3,5,7...)$ de $h$ pequeña\n",
    "\n",
    "$\\dfrac{f(x+h)-f(x-h)}{2h}\\approx f'(x)$"
   ]
  },
  {
   "cell_type": "markdown",
   "metadata": {},
   "source": [
    "__Pregunta:__ ¿Hay una forma de construir una derivada numérica aún mas exacta sin tener que hacer $h$ arbitrariamente pequeño?, ¿que opinas?"
   ]
  },
  {
   "cell_type": "markdown",
   "metadata": {},
   "source": [
    "__Ejercicio 4__. Implementa la _derivada\n",
    "simétrica_ en `Julia` como `derivada_Simetrica` y repite la\n",
    "comparativa que realizaste en el __ejercicio 2__.\n"
   ]
  },
  {
   "cell_type": "code",
   "execution_count": 9,
   "metadata": {
    "collapsed": false
   },
   "outputs": [
    {
     "data": {
      "text/plain": [
       "derivada_Simetrica (generic function with 1 method)"
      ]
     },
     "execution_count": 9,
     "metadata": {},
     "output_type": "execute_result"
    }
   ],
   "source": [
    "function derivada_Simetrica(f,x,h)\n",
    "    df=0.0;\n",
    "    df=(f(x+h)-f(x-h))/(2*h);\n",
    "end"
   ]
  },
  {
   "cell_type": "code",
   "execution_count": 10,
   "metadata": {
    "collapsed": false
   },
   "outputs": [
    {
     "data": {
      "text/latex": [
       "$$1.99999999999922$$"
      ],
      "text/plain": [
       "1.99999999999922"
      ]
     },
     "execution_count": 10,
     "metadata": {},
     "output_type": "execute_result"
    }
   ],
   "source": [
    "derivada_Simetrica(x^2,1,0.0001)"
   ]
  },
  {
   "cell_type": "markdown",
   "metadata": {},
   "source": [
    "Analizando la serie de la diferencia finita hacia adelante podemos factorizar la función útilizando la propiedad de linealidad del operador derivada, antes pasando del lado izquierdo de la serie a $f(x)$:\n",
    "\n",
    "\\begin{eqnarray}\n",
    "f(x+h)-f(x)&=& \\left[h \\left. \\frac{d}{d \\xi}  \\right|_{\\substack{ \\xi=x }} + \\frac{h^{2}}{2} \\left. \\frac{d^{2}}{d \\xi^{2}}   \\right|_{\\substack{ \\xi_{1}=x }} + \\frac{h^{3}}{6} \\left. \\frac{d^{3}}{d \\xi^{3}}   \\right|_{\\substack{ \\xi=x }} + \\mathcal{O}\\left(h^{4}\\right)\\right]f{\\left (x \\right )}\\\\\n",
    "&=&\\left[ \\sum_{n=1}^{\\infty} \\frac{1}{n!}h^n\\left.\\frac{d^n}{d\\xi^n}\\right|_{\\substack{ \\xi=x }} \\right]f(x)\n",
    "\\end{eqnarray}\n",
    "Luego podemos definir el operador $\\Delta_h$, el cual se define como:\n",
    "$$\\Delta_h:f \\mapsto f(x+h)-f(x)=\\Delta f(x,h).$$\n",
    "__Ejercicio 5:__ Demuestre que $\\Delta_h$ es un operador lineal y que podemos \"factorizar\" la función a la derecha del operador. Hecho esto podemos quitar de ambos lados la función $f$ para obtener lo siguiente:\n",
    "$$\\Delta_h=\\sum_{n=1}^{\\infty} \\frac{1}{n!}h^n\\left.\\frac{d^n}{d\\xi^n}\\right|_{\\substack{ \\xi=x }}$$"
   ]
  },
  {
   "cell_type": "markdown",
   "metadata": {},
   "source": [
    "__Ejercicio 6:__ Para saber como se relaciona el _operador derivada exacta_ con el _operador diferencia finita hacia adelante_ es necesario invertir la serie $\\Delta_h=\\sum_{n=1}^{\\infty} \\frac{1}{n!}h^n\\left.\\frac{d^n}{d\\xi^n}\\right|_{\\substack{ \\xi=x }}$. Una forma directa de hacerlo es identificar la función para la cual es esa serie. Entonces, pensando en el operador derivada como un número, la serie se identifica como función evaluada en $\\left. h\\frac{d}{d_\\xi}\\right|_{\\substack{ \\xi=x }}$, ¿cual es esa función?. Si llamamos $\\phi$ a dicha función, deberiamos de tener una relación de la siguiente forma:\n",
    "$$\\Delta_h=\\phi\\left(h\\left.\\frac{d}{d\\xi}\\right|_{\\substack{ \\xi=x }}\\right)$$.\n",
    "    \n",
    "* __Nota:__ En la clase se demostró que $\\phi(x)=e^x-1$, escriba el razonamiento en $\\LaTeX$ de como se llegó a esto."
   ]
  },
  {
   "cell_type": "markdown",
   "metadata": {},
   "source": [
    "__Ejercicio 7:__ Explotar la relación $\\delta_h=\\Delta_h-\\Delta_{-h}$, donde $\\delta_h:f(x)\\mapsto f(x+h)-f(x-h)$, para encontrar cual es la función $\\theta$ que relaciona a $\\delta_h$ con el operador derivada exacta, es decir:\n",
    "$$\\delta_h=\\theta\\left(h\\left. \\frac{d}{d\\xi}\\right|_{\\xi=x}\\right).$$\n",
    "\n",
    "Una vez que la encuentren, despejen $\\left. \\frac{d}{d\\xi}\\right|_{\\xi=x}$ y calculen la serie de Taylor de mánera similar a lo mostrado en las ecuaciones 3 y 4."
   ]
  },
  {
   "cell_type": "code",
   "execution_count": null,
   "metadata": {
    "collapsed": true
   },
   "outputs": [],
   "source": []
  }
 ],
 "metadata": {
  "kernelspec": {
   "display_name": "Julia 0.6.0",
   "language": "julia",
   "name": "julia-0.6"
  },
  "language_info": {
   "file_extension": ".jl",
   "mimetype": "application/julia",
   "name": "julia",
   "version": "0.6.0"
  }
 },
 "nbformat": 4,
 "nbformat_minor": 2
}
