{
 "cells": [
  {
   "cell_type": "markdown",
   "metadata": {},
   "source": [
    "__MÉTODOS DE INTEGRACIÓN__:"
   ]
  },
  {
   "cell_type": "markdown",
   "metadata": {},
   "source": [
    "# Riemann:"
   ]
  },
  {
   "cell_type": "markdown",
   "metadata": {},
   "source": [
    "La integral de Riemann consiste en tomar una partición de n sub-intervalo de un intervalo $[a,b]$ en el dominio de la función con la condición:\n",
    "$x_0=a<x_1<...<x_n<x_{n+1}=b$\n",
    "y aproximar el área bajo la función como el área de los rectánculos de altura $f(\\alpha_i)$ con $\\alpha_i$ en el i-ésimo intervalo de la partición, es decir en $[x_i,x_{i+1}]$. Así,la integral es aproximadamente:\n",
    "\n",
    "$\\sum_{i=1}^{n}f(\\alpha_i)(x_{i+1}-x_i)$.\n",
    "\n",
    "La integral es entonces el límite cuando n tiende a infinito de la suma de Riemann:\n",
    "\n",
    "$\\int_{a}^{b}f(x)dx= \\lim_{n \\to \\infty}\\sum_{i=1}^{n}f(\\alpha_i)(x_{i+1}-x_i)$.\n",
    "\n",
    "Para particiones regulares del intervalo $[a,b]$, $x_{i+1}-x_i=\\dfrac{(b-a)}{n}$.\n",
    "Siempre podemos tomar $\\alpha_i=a+\\dfrac{(b-a)i}{n}$.\n",
    "Así la integral de Riemann se aproxima como:\n",
    "$\\int_{a}^{b}f(x)dx= \\lim_{n \\to \\infty}\\dfrac{(b-a)}{n}\\sum_{i=1}^{n}f(a+\\dfrac{(b-a)i}{n})$."
   ]
  },
  {
   "cell_type": "markdown",
   "metadata": {},
   "source": [
    "# Regla del trapecio:"
   ]
  },
  {
   "cell_type": "markdown",
   "metadata": {},
   "source": [
    "La regla del trapecio compuesta o regla de los trapecios es una forma de aproximar una integral definida utilizando n trapecios. En la formulación de este método se supone que f es continua y positiva en el intervalo [a,b]. De tal modo la integral definida $\\int_{a}^{b}f(x)dx$  representa el área de la región delimitada por la gráfica de f y el eje x, desde $x=a$ hasta $x=b$. Primero se divide el intervalo $[a,b]$ en n sub-intervalos regulares de longitud $\\frac{b-a}{n}$.\n",
    "\n",
    "Así,\n",
    "$\\int_{a}^{b}f(x)dx\\sim\\sum_{i=1}^{n}\\frac{(f(a+\\frac{(b-a)i-1}{n})+f(a+\\frac{(b-a)i}{n}))(\\frac{b-a}{n})}{2}$\n",
    "\n",
    "o equivalentemente \n",
    "\n",
    "$\\int _{a}^{b}f(x)\\,dx\\sim {\\frac {b-a}{2n}}[f(a)+2f(a+\\frac{b-a}{n})+2f(a+2\\frac{b-a}{n})+...+f(b)]$\n",
    "\n",
    "\n",
    "La expresión anterior también se puede escribir como:\n",
    "\n",
    "$\\int_{a}^{b}f(x)dx\\sim {\\frac {b-a}{n}}[{\\frac {f(a)+f(b)}{2}}+\\sum_{i=1}^{n-1}f(a+i{\\frac {b-a}{n}})]$\n",
    "\n",
    "El error en esta aproximación se corresponde con :\n",
    "\n",
    "${{-\\frac {(b-a)^{3}}{12n^{2}}}\\,f''(\\xi )}$\n",
    "\n",
    "Siendo n el número de subintervalos."
   ]
  },
  {
   "cell_type": "markdown",
   "metadata": {},
   "source": [
    "# Regla de Simpson de orden 2:"
   ]
  },
  {
   "cell_type": "markdown",
   "metadata": {
    "collapsed": true
   },
   "source": [
    "Tomando la misma partición del intervalo $[a,b]$ tal que $x_0=a<x_1<...<x_n<x_{n+1}=b$ considerando además que $n$ es par, podemos hacer la aproximación de la integral de $f(x)$ como la integral de el polinomio interpolador de orden dos $P_{2}(x)$, que aproxima a la función entre los nodos $x_{i-1} = a + (i-1)h$, $x_{i+1} = a + (i+1)h$ y $m = (x_{i-1}+x_{i+1})/2$. La expresión de ese polinomio interpolante, expresado a través de la interpolación polinómica de Lagrange es:\n",
    "\n",
    "$P_{2}(x)=f(x_{i-1})(\\frac {(x-m)(x-x_{i+1})}{(x_{i-1}-m)(x_{i-1}-x_{i+1})})+f(m)(\\frac {(x-x_{i-1})(x-x_{i+1})}{(m-x_{i-1})(m-x_{i+1})})+f(x_{i+1})(\\frac {(x-x_{i-1})(x-m)}{(x_{i+1}-x_{i-1})(x_{i+1}-m)})$ \n",
    "\n",
    "con x en el intervalo $[x_{i-1},x_{i+1}]$\n",
    "    \n",
    "Así la integral de $f(x)$ es\n",
    "\n",
    "$\\int _{x_{i-1}}^{x_{i+1}}f(x)\\,dx={\\frac {x_{i+1}-x_{i-1}}{3}}[f(x_{i-1})+4f(x_{i})+f(x_{i+1})]$\n",
    "\n",
    "Sumando las integrales de todos los subintervalos se obtiene que\n",
    "\n",
    "$\\int _{a}^{b}f(x)\\,dx\\approx {\\frac {h}{3}}{\\bigg [}f(x_{0})+2\\sum _{j=1}^{(n/2)-1}f(x_{2j})+4\\sum _{j=1}^{n/2}f(x_{2j-1})+f(x_{n}){\\bigg ]}$\n",
    "\n",
    "El máximo error viene dado por la expresión  \n",
    "$(b-a)\\,{\\frac {h^{4}}{180}}\\,\\max _{a\\leq \\xi \\leq b}|f^{(4)}(\\xi )|$. \n"
   ]
  },
  {
   "cell_type": "code",
   "execution_count": null,
   "metadata": {
    "collapsed": true
   },
   "outputs": [],
   "source": []
  }
 ],
 "metadata": {
  "kernelspec": {
   "display_name": "Julia 0.6.0",
   "language": "julia",
   "name": "julia-0.6"
  },
  "language_info": {
   "file_extension": ".jl",
   "mimetype": "application/julia",
   "name": "julia",
   "version": "0.6.0"
  }
 },
 "nbformat": 4,
 "nbformat_minor": 2
}
